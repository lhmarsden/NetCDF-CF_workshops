{
 "cells": [
  {
   "cell_type": "code",
   "execution_count": 1,
   "id": "c0c7151b",
   "metadata": {},
   "outputs": [],
   "source": [
    "import xarray as xr\n",
    "import uuid\n",
    "from datetime import datetime as dt\n",
    "import numpy as np"
   ]
  },
  {
   "cell_type": "markdown",
   "id": "e4dae07d",
   "metadata": {},
   "source": [
    "# Creating our data\n",
    "\n",
    "Let's imagine we have an ice core that is 80 cm long. We have split the ice core into 8 10 cm chunks, and melted each one. We have then measured the salinity for each 10 cm chunk. Each salinity is therefore not representative of a single depth, but instead a 10 cm depth range - a cell."
   ]
  },
  {
   "cell_type": "code",
   "execution_count": 2,
   "id": "a89b4d41",
   "metadata": {},
   "outputs": [],
   "source": [
    "sea_ice_salinity = np.array([35.5, 35.6, 35.8, 36, 36.2, 35.9, 35.8, 35.4])\n",
    "depth_bounds = np.array([[0, 10],[10,20],[20,30],[30,40],[40,50],[50,60],[60,70],[70,80]])"
   ]
  },
  {
   "cell_type": "markdown",
   "id": "90173d77",
   "metadata": {},
   "source": [
    "There are 2 depths (a 2D array) associated with each salinity value - the minimum and maximum depth point for each chunk. However, we have a 1D array of salinity values. We therefore need a single depth to relate to each salinity value. We can take the mid depth for each ice chunk."
   ]
  },
  {
   "cell_type": "code",
   "execution_count": 3,
   "id": "2612f1f8",
   "metadata": {},
   "outputs": [
    {
     "name": "stdout",
     "output_type": "stream",
     "text": [
      "[5.0, 15.0, 25.0, 35.0, 45.0, 55.0, 65.0, 75.0]\n"
     ]
    }
   ],
   "source": [
    "mid_depth = [np.mean(d) for d in depth_bounds]\n",
    "print(mid_depth)"
   ]
  },
  {
   "cell_type": "markdown",
   "id": "264eb9ff",
   "metadata": {},
   "source": [
    "# Initialising our file and creating dimensions"
   ]
  },
  {
   "cell_type": "markdown",
   "id": "50d4b7fc",
   "metadata": {},
   "source": [
    "We are now going to initialise an xarray object, that will later become our NetCDF file. In the process, we are adding data to it too."
   ]
  },
  {
   "cell_type": "code",
   "execution_count": 4,
   "id": "c829ae0d",
   "metadata": {},
   "outputs": [
    {
     "name": "stdout",
     "output_type": "stream",
     "text": [
      "<xarray.Dataset>\n",
      "Dimensions:           (depth: 8)\n",
      "Coordinates:\n",
      "  * depth             (depth) float64 5.0 15.0 25.0 35.0 45.0 55.0 65.0 75.0\n",
      "Data variables:\n",
      "    sea_ice_salinity  (depth) float64 35.5 35.6 35.8 36.0 36.2 35.9 35.8 35.4\n"
     ]
    }
   ],
   "source": [
    "xrds = xr.Dataset(\n",
    "    coords = {\n",
    "        'depth': mid_depth\n",
    "    },\n",
    "    data_vars = {\n",
    "        'sea_ice_salinity': (\"depth\", sea_ice_salinity)\n",
    "    }\n",
    ")\n",
    "print(xrds)"
   ]
  },
  {
   "cell_type": "markdown",
   "id": "9178ca1e",
   "metadata": {},
   "source": [
    "But what about our depth bounds? Let's add a dimension for them now."
   ]
  },
  {
   "cell_type": "code",
   "execution_count": 5,
   "id": "c77874fb",
   "metadata": {},
   "outputs": [
    {
     "name": "stdout",
     "output_type": "stream",
     "text": [
      "<xarray.Dataset>\n",
      "Dimensions:           (depth: 8, bounds: 2)\n",
      "Coordinates:\n",
      "  * depth             (depth) float64 5.0 15.0 25.0 35.0 45.0 55.0 65.0 75.0\n",
      "  * bounds            (bounds) int64 0 1\n",
      "Data variables:\n",
      "    sea_ice_salinity  (depth) float64 35.5 35.6 35.8 36.0 36.2 35.9 35.8 35.4\n"
     ]
    }
   ],
   "source": [
    "# Add a new dimensions called depth_bounds, with 2 points\n",
    "xrds = xrds.assign_coords(bounds =[0,1])\n",
    "print(xrds)"
   ]
  },
  {
   "cell_type": "markdown",
   "id": "90091185",
   "metadata": {},
   "source": [
    "Now we need to add a variable for the depth_bounds"
   ]
  },
  {
   "cell_type": "code",
   "execution_count": 6,
   "id": "a54c02ff",
   "metadata": {},
   "outputs": [
    {
     "name": "stdout",
     "output_type": "stream",
     "text": [
      "<xarray.Dataset>\n",
      "Dimensions:           (depth: 8, bounds: 2)\n",
      "Coordinates:\n",
      "  * depth             (depth) float64 5.0 15.0 25.0 35.0 45.0 55.0 65.0 75.0\n",
      "  * bounds            (bounds) int64 0 1\n",
      "Data variables:\n",
      "    sea_ice_salinity  (depth) float64 35.5 35.6 35.8 36.0 36.2 35.9 35.8 35.4\n",
      "    depth_bounds      (depth, bounds) int64 0 10 10 20 20 30 ... 60 60 70 70 80\n"
     ]
    }
   ],
   "source": [
    "xrds = xrds.assign(depth_bounds = (['depth','bounds'], depth_bounds))\n",
    "print(xrds)"
   ]
  },
  {
   "cell_type": "markdown",
   "id": "2e9d33fb",
   "metadata": {},
   "source": [
    "# Variable attributes"
   ]
  },
  {
   "cell_type": "markdown",
   "id": "d21970fd",
   "metadata": {},
   "source": [
    "So now we have all of our data in our file. However, variable attributes must be added to make each variable understandable."
   ]
  },
  {
   "cell_type": "code",
   "execution_count": 7,
   "id": "93f3165b",
   "metadata": {},
   "outputs": [
    {
     "name": "stdout",
     "output_type": "stream",
     "text": [
      "<xarray.DataArray 'depth' (depth: 8)>\n",
      "array([ 5., 15., 25., 35., 45., 55., 65., 75.])\n",
      "Coordinates:\n",
      "  * depth    (depth) float64 5.0 15.0 25.0 35.0 45.0 55.0 65.0 75.0\n",
      "Attributes:\n",
      "    standard_name:          depth\n",
      "    long_name:              depth from top of sea ice\n",
      "    units:                  cm\n",
      "    coverage_content_type:  coordinate\n",
      "    positive:               down\n",
      "    bounds:                 depth_bounds \n",
      "\n",
      "<xarray.DataArray 'depth_bounds' (depth: 8, bounds: 2)>\n",
      "array([[ 0, 10],\n",
      "       [10, 20],\n",
      "       [20, 30],\n",
      "       [30, 40],\n",
      "       [40, 50],\n",
      "       [50, 60],\n",
      "       [60, 70],\n",
      "       [70, 80]])\n",
      "Coordinates:\n",
      "  * depth    (depth) float64 5.0 15.0 25.0 35.0 45.0 55.0 65.0 75.0\n",
      "  * bounds   (bounds) int64 0 1\n",
      "Attributes:\n",
      "    long_name:  Minimum and maximum depth bounds in sea ice core\n",
      "    units:      cm \n",
      "\n",
      "<xarray.DataArray 'sea_ice_salinity' (depth: 8)>\n",
      "array([35.5, 35.6, 35.8, 36. , 36.2, 35.9, 35.8, 35.4])\n",
      "Coordinates:\n",
      "  * depth    (depth) float64 5.0 15.0 25.0 35.0 45.0 55.0 65.0 75.0\n",
      "Attributes:\n",
      "    standard_name:          sea_ice_salinity\n",
      "    long_name:              Practical salinity of sea ice\n",
      "    units:                  1e-3\n",
      "    coverage_content_type:  physicalMeasurement \n",
      "\n"
     ]
    }
   ],
   "source": [
    "xrds['depth'].attrs = {\n",
    "    'standard_name': 'depth',\n",
    "    'long_name':'depth from top of sea ice',\n",
    "    'units': 'cm',\n",
    "    'coverage_content_type': 'coordinate',\n",
    "    'positive': 'down',\n",
    "    'bounds': 'depth_bounds' # See here we refer to the variable that contains the bounds for this coordinate variable\n",
    "}\n",
    "\n",
    "xrds['depth_bounds'].attrs = {\n",
    "    'long_name':'Minimum and maximum depth bounds in sea ice core',\n",
    "    'units': 'cm'\n",
    "}\n",
    "\n",
    "xrds['sea_ice_salinity'].attrs = {\n",
    "    'standard_name': 'sea_ice_salinity',\n",
    "    'long_name': 'Practical salinity of sea ice',\n",
    "    'units': '1e-3',\n",
    "    'coverage_content_type': 'physicalMeasurement'\n",
    "    }\n",
    "\n",
    "print(xrds['depth'], '\\n')\n",
    "print(xrds['depth_bounds'], '\\n')\n",
    "print(xrds['sea_ice_salinity'], '\\n')\n"
   ]
  },
  {
   "cell_type": "markdown",
   "id": "871df484",
   "metadata": {},
   "source": [
    "# Global attributes\n",
    "\n",
    "Finally, let's add some global attributes that describe the file as a whole. Here, we follow the ACDD conventions: https://wiki.esipfed.org/Attribute_Convention_for_Data_Discovery_1-3\n",
    "\n",
    "For datasets that contribute to SIOS, we have more specific requirements based on the ACDD conventions. This is a good list for anyone to use, as the ACDD conventions listed above have not been updated in a while: https://adc.met.no/node/4"
   ]
  },
  {
   "cell_type": "code",
   "execution_count": 8,
   "id": "df776229",
   "metadata": {},
   "outputs": [
    {
     "name": "stdout",
     "output_type": "stream",
     "text": [
      "<xarray.Dataset>\n",
      "Dimensions:           (depth: 8, bounds: 2)\n",
      "Coordinates:\n",
      "  * depth             (depth) float64 5.0 15.0 25.0 35.0 45.0 55.0 65.0 75.0\n",
      "  * bounds            (bounds) int64 0 1\n",
      "Data variables:\n",
      "    sea_ice_salinity  (depth) float64 35.5 35.6 35.8 36.0 36.2 35.9 35.8 35.4\n",
      "    depth_bounds      (depth, bounds) int64 0 10 10 20 20 30 ... 60 60 70 70 80\n",
      "Attributes:\n",
      "    title:         my title\n",
      "    date_created:  2023-05-03T08:23:56Z\n",
      "    history:       File create at 2023-05-03T08:23:56Z using xarray in Python\n"
     ]
    }
   ],
   "source": [
    "xrds.attrs['title'] = 'my title'\n",
    "dtnow = dt.utcnow().strftime(\"%Y-%m-%dT%H:%M:%SZ\")\n",
    "xrds.attrs['date_created'] = dtnow\n",
    "xrds.attrs['history'] = f'File create at {dtnow} using xarray in Python'\n",
    "\n",
    "print(xrds)"
   ]
  },
  {
   "cell_type": "markdown",
   "id": "22669efb",
   "metadata": {},
   "source": [
    "# Encoding and saving the file"
   ]
  },
  {
   "cell_type": "code",
   "execution_count": 9,
   "id": "6e4c4697",
   "metadata": {},
   "outputs": [],
   "source": [
    "myencoding = {\n",
    "    'depth': {\n",
    "        'dtype': 'float32',\n",
    "        '_FillValue': None # Coordinate variables should not have fill values.\n",
    "        },\n",
    "    'sea_ice_salinity': {\n",
    "        'dtype': 'float32',\n",
    "        '_FillValue': 1e30,\n",
    "        'zlib': False\n",
    "        }, \n",
    "    'depth_bounds': {\n",
    "        'dtype': 'int32',\n",
    "        '_FillValue': 1e6,\n",
    "        'zlib': False\n",
    "        },\n",
    "    'bounds': {\n",
    "        'dtype': 'int32',\n",
    "        '_FillValue': None # Coordinate variables should not have fill values.\n",
    "        }\n",
    "    }\n",
    "\n",
    "\n",
    "xrds.to_netcdf('ice_core_salinity_profile.nc',encoding=myencoding)"
   ]
  }
 ],
 "metadata": {
  "kernelspec": {
   "display_name": "Python 3 (ipykernel)",
   "language": "python",
   "name": "python3"
  },
  "language_info": {
   "codemirror_mode": {
    "name": "ipython",
    "version": 3
   },
   "file_extension": ".py",
   "mimetype": "text/x-python",
   "name": "python",
   "nbconvert_exporter": "python",
   "pygments_lexer": "ipython3",
   "version": "3.8.10"
  }
 },
 "nbformat": 4,
 "nbformat_minor": 5
}
